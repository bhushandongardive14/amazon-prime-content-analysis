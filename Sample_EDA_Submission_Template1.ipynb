{
 "cells": [
  {
   "cell_type": "code",
   "execution_count": null,
   "metadata": {
    "id": "beRrZCGUAJYm"
   },
   "outputs": [],
   "source": [
    "##### **Project Type**    - EDA/Regression/Classification/Unsupervised\n",
    "##### **Contribution**    - Individual/Team"
   ]
  },
  {
   "cell_type": "markdown",
   "metadata": {},
   "source": [
    "Bhushan Dongardive"
   ]
  },
  {
   "cell_type": "markdown",
   "metadata": {
    "id": "F6v_1wHtG2nS"
   },
   "source": [
    "Write the summary here within 500-600 words."
   ]
  },
  {
   "cell_type": "code",
   "execution_count": null,
   "metadata": {},
   "outputs": [],
   "source": [
    "The task of this project is to perform an exploratory data analysis (EDA) of the Amazon Prime TV shows and movies dataset. The dataset consists of two primary files: titles.csv, which presents extensive information about the content on Amazon Prime (e.g., title, type, genres, release year, runtime, and IMDb score), and credits.csv, which presents the cast and crew of each title.\n",
    "\n",
    "The primary goal of the project is to learn about content trends on the Amazon Prime platform. By examining the category of content (TV series vs. films), spread across genres, time-series changes, and audience ratings (IMDb ratings), we can observe trends that can assist content creators, producers, or platform curators in making data-driven choices. Moreover, we examine the possibility of using machine learning methods to forecast IMDb ratings on the basis of existing features such as genre, length, and release year.\n",
    "\n",
    "The process starts with data loading and initial data cleaning. Missing values, null values, and data type inconsistencies are detected and managed. For example, the release_year column, which is first read as an object, is coerced to a numeric or datetime type for temporal analysis purposes. Missing title values or other critical fields in rows are removed to ensure data quality.\n",
    "\n",
    "Then, the EDA section also delves into several different facets of the content. We examine the proportion between TV series and films, the most frequent genres, and the trends in release years. One of the prominent observations is the growing number of content being created and uploaded to the platform in the recent past, showing Amazon's increased spending on original content and acquisitions. Plots like bar plots and line plots easily convey these trends.\n",
    "\n",
    "We also examine genre popularity and see that genres such as comedy, drama, and thriller are the most commonly listed on the site. We analyze the distribution of IMDb scores to gauge the quality of content and user opinion. We find that there are top-performing genres and determine if the type of content or length of the content relates to the IMDb score.\n",
    "\n",
    "We then move to a machine learning approach in the latter half of the project. We try to train a regression model to forecast the IMDb ratings of titles based on available features. Categorical features like genres are converted using one-hot encoding, and numerical features like runtime are utilized as is. We employ a basic linear regression model for the first experiment and measure the performance in terms of R² score on the test set. This provides us with a baseline idea of how accurately such models could predict content ratings, although additional tuning and feature engineering would be necessary to refine accuracy.\n",
    "\n",
    "All graphs produced throughout the EDA are stored as PNG files and embedded into a PowerPoint presentation. The presentation condenses the main findings, visual trends, and model insights, ensuring that the analysis is an easy one to share with stakeholders or colleagues.\n",
    "\n",
    "In summary, this project illustrates how data on structured content from streaming services such as Amazon Prime can be utilized in order to provide actionable insights and form the basis for predictive models. The analysis offers useful insights regarding genre distribution, content strategy over periods of time, and audience reception. Areas for future enhancement can include sentiment analysis from reviews, influence of popularity among casts, or time-series forecasts of content trends.\n",
    "\n"
   ]
  },
  {
   "cell_type": "markdown",
   "metadata": {
    "id": "w6K7xa23Elo4"
   },
   "source": [
    "# **GitHub Link -**"
   ]
  },
  {
   "cell_type": "markdown",
   "metadata": {
    "id": "h1o69JH3Eqqn"
   },
   "source": [
    "Provide your GitHub Link here."
   ]
  },
  {
   "cell_type": "code",
   "execution_count": null,
   "metadata": {},
   "outputs": [],
   "source": []
  },
  {
   "cell_type": "markdown",
   "metadata": {
    "id": "yQaldy8SH6Dl"
   },
   "source": [
    "# **Problem Statement**\n"
   ]
  },
  {
   "cell_type": "markdown",
   "metadata": {
    "id": "DpeJGUA3kjGy"
   },
   "source": [
    "**Write Problem Statement Here.**"
   ]
  },
  {
   "cell_type": "markdown",
   "metadata": {
    "id": "PH-0ReGfmX4f"
   },
   "source": [
    "#### **Define Your Business Objective?**"
   ]
  },
  {
   "cell_type": "code",
   "execution_count": null,
   "metadata": {
    "id": "PhDvGCAqmjP1"
   },
   "outputs": [],
   "source": [
    "The balance between content quantity vs. quality\n",
    "\n",
    "The effectiveness of content targeting across different genres and age demographics\n",
    "\n",
    "How user-rated performance (IMDb scores) correlates with content characteristics such as type, genre, runtime, and release year"
   ]
  },
  {
   "cell_type": "markdown",
   "metadata": {
    "id": "mDgbUHAGgjLW"
   },
   "source": [
    "# **General Guidelines** : -  "
   ]
  },
  {
   "cell_type": "markdown",
   "metadata": {
    "id": "ZrxVaUj-hHfC"
   },
   "source": [
    "1.   Well-structured, formatted, and commented code is required.\n",
    "2.   Exception Handling, Production Grade Code & Deployment Ready Code will be a plus. Those students will be awarded some additional credits.\n",
    "     \n",
    "     The additional credits will have advantages over other students during Star Student selection.\n",
    "       \n",
    "             [ Note: - Deployment Ready Code is defined as, the whole .ipynb notebook should be executable in one go\n",
    "                       without a single error logged. ]\n",
    "\n",
    "3.   Each and every logic should have proper comments.\n",
    "4. You may add as many number of charts you want. Make Sure for each and every chart the following format should be answered.\n",
    "        \n",
    "\n",
    "```\n",
    "# Chart visualization code\n",
    "```\n",
    "            \n",
    "\n",
    "*   Why did you pick the specific chart?\n",
    "*   What is/are the insight(s) found from the chart?\n",
    "* Will the gained insights help creating a positive business impact?\n",
    "Are there any insights that lead to negative growth? Justify with specific reason.\n",
    "\n",
    "5. You have to create at least 20 logical & meaningful charts having important insights.\n",
    "\n",
    "\n",
    "[ Hints : - Do the Vizualization in  a structured way while following \"UBM\" Rule.\n",
    "\n",
    "U - Univariate Analysis,\n",
    "\n",
    "B - Bivariate Analysis (Numerical - Categorical, Numerical - Numerical, Categorical - Categorical)\n",
    "\n",
    "M - Multivariate Analysis\n",
    " ]\n",
    "\n",
    "\n",
    "\n"
   ]
  },
  {
   "cell_type": "markdown",
   "metadata": {
    "id": "O_i_v8NEhb9l"
   },
   "source": [
    "# ***Let's Begin !***"
   ]
  },
  {
   "cell_type": "markdown",
   "metadata": {
    "id": "HhfV-JJviCcP"
   },
   "source": [
    "## ***1. Know Your Data***"
   ]
  },
  {
   "cell_type": "markdown",
   "metadata": {
    "id": "Y3lxredqlCYt"
   },
   "source": [
    "### Import Libraries"
   ]
  },
  {
   "cell_type": "code",
   "execution_count": 3,
   "metadata": {
    "id": "M8Vqi-pPk-HR"
   },
   "outputs": [],
   "source": [
    "import pandas as pd\n",
    "from IPython.display import display\n"
   ]
  },
  {
   "cell_type": "markdown",
   "metadata": {
    "id": "3RnN4peoiCZX"
   },
   "source": [
    "### Dataset Loading"
   ]
  },
  {
   "cell_type": "code",
   "execution_count": null,
   "metadata": {
    "id": "4CkvbW_SlZ_R"
   },
   "outputs": [],
   "source": [
    "import pandas as pd\n",
    "\n",
    "# Load the CSV files\n",
    "titles_df = pd.read_csv('titles.csv')\n",
    "credits_df = pd.read_csv('credits.csv')\n",
    "\n",
    "print(\"✅ Files successfully loaded.\")\n",
    "\n",
    "# Optional: Display first few rows to confirm\n",
    "print(\"🎬 Titles Dataset Preview:\")\n",
    "display(titles_df.head())\n",
    "\n",
    "print(\"👥 Credits Dataset Preview:\")\n",
    "display(credits_df.head())\n"
   ]
  },
  {
   "cell_type": "markdown",
   "metadata": {
    "id": "x71ZqKXriCWQ"
   },
   "source": [
    "### Dataset First View"
   ]
  },
  {
   "cell_type": "code",
   "execution_count": null,
   "metadata": {
    "id": "LWNFOSvLl09H"
   },
   "outputs": [],
   "source": [
    "# View first few rows\n",
    "print(\"🎬 Titles Dataset - First 5 Rows:\")\n",
    "display(titles_df.head())\n",
    "\n",
    "print(\"\\n👥 Credits Dataset - First 5 Rows:\")\n",
    "display(credits_df.head())\n",
    "\n",
    "# View shape of each dataset\n",
    "print(\"\\n📏 Dataset Shapes:\")\n",
    "print(f\"Titles dataset shape: {titles_df.shape}\")\n",
    "print(f\"Credits dataset shape: {credits_df.shape}\")\n",
    "\n",
    "# View column names\n",
    "print(\"\\n🧾 Column Names:\")\n",
    "print(\"Titles columns:\", titles_df.columns.tolist())\n",
    "print(\"Credits columns:\", credits_df.columns.tolist())\n",
    "\n",
    "# Quick data types and non-null info\n",
    "print(\"\\nℹ️ Titles Dataset Info:\")\n",
    "titles_df.info()\n",
    "\n",
    "print(\"\\nℹ️ Credits Dataset Info:\")\n",
    "credits_df.info()\n"
   ]
  },
  {
   "cell_type": "markdown",
   "metadata": {
    "id": "7hBIi_osiCS2"
   },
   "source": [
    "### Dataset Rows & Columns count"
   ]
  },
  {
   "cell_type": "code",
   "execution_count": null,
   "metadata": {
    "id": "Kllu7SJgmLij"
   },
   "outputs": [],
   "source": [
    "# Titles dataset shape\n",
    "titles_rows, titles_cols = titles_df.shape\n",
    "print(f\"🎬 Titles Dataset: {titles_rows} rows and {titles_cols} columns\")\n",
    "\n",
    "# Credits dataset shape\n",
    "credits_rows, credits_cols = credits_df.shape\n",
    "print(f\"👥 Credits Dataset: {credits_rows} rows and {credits_cols} columns\")\n"
   ]
  },
  {
   "cell_type": "markdown",
   "metadata": {
    "id": "JlHwYmJAmNHm"
   },
   "source": [
    "### Dataset Information"
   ]
  },
  {
   "cell_type": "code",
   "execution_count": null,
   "metadata": {
    "id": "e9hRXRi6meOf"
   },
   "outputs": [],
   "source": [
    "# Titles Dataset Information\n",
    "print(\"🎬 Titles Dataset Info:\")\n",
    "titles_df.info()\n",
    "\n",
    "print(\"\\n👥 Credits Dataset Info:\")\n",
    "credits_df.info()\n"
   ]
  },
  {
   "cell_type": "markdown",
   "metadata": {
    "id": "35m5QtbWiB9F"
   },
   "source": [
    "#### Duplicate Values"
   ]
  },
  {
   "cell_type": "code",
   "execution_count": null,
   "metadata": {
    "id": "1sLdpKYkmox0"
   },
   "outputs": [],
   "source": [
    "# Check duplicate rows in titles dataset\n",
    "titles_duplicates = titles_df.duplicated().sum()\n",
    "print(f\"🎬 Titles Dataset has {titles_duplicates} duplicate rows.\")\n",
    "\n",
    "# Check duplicate rows in credits dataset\n",
    "credits_duplicates = credits_df.duplicated().sum()\n",
    "print(f\"👥 Credits Dataset has {credits_duplicates} duplicate rows.\")\n"
   ]
  },
  {
   "cell_type": "markdown",
   "metadata": {
    "id": "PoPl-ycgm1ru"
   },
   "source": [
    "#### Missing Values/Null Values"
   ]
  },
  {
   "cell_type": "code",
   "execution_count": null,
   "metadata": {
    "id": "GgHWkxvamxVg"
   },
   "outputs": [],
   "source": [
    "# Count of missing values in each column of the titles dataset\n",
    "print(\"🎬 Titles Dataset - Missing Values Count:\")\n",
    "print(titles_df.isnull().sum())\n",
    "\n",
    "print(\"\\n\" + \"-\"*50 + \"\\n\")\n",
    "\n",
    "# Count of missing values in each column of the credits dataset\n",
    "print(\"👥 Credits Dataset - Missing Values Count:\")\n",
    "print(credits_df.isnull().sum())\n"
   ]
  },
  {
   "cell_type": "code",
   "execution_count": null,
   "metadata": {
    "id": "3q5wnI3om9sJ"
   },
   "outputs": [],
   "source": [
    "import matplotlib.pyplot as plt\n",
    "import seaborn as sns\n",
    "\n",
    "# Set up the plot style\n",
    "sns.set(style=\"whitegrid\")\n",
    "\n",
    "# Visualize missing values in Titles dataset\n",
    "plt.figure(figsize=(12, 6))\n",
    "sns.heatmap(titles_df.isnull(), cbar=False, cmap=\"YlGnBu\", yticklabels=False)\n",
    "plt.title(\"Missing Values Heatmap - Titles Dataset\")\n",
    "plt.show()\n",
    "\n",
    "# Visualize missing values in Credits dataset\n",
    "plt.figure(figsize=(12, 6))\n",
    "sns.heatmap(credits_df.isnull(), cbar=False, cmap=\"YlGnBu\", yticklabels=False)\n",
    "plt.title(\"Missing Values Heatmap - Credits Dataset\")\n",
    "plt.show()\n"
   ]
  },
  {
   "cell_type": "markdown",
   "metadata": {
    "id": "H0kj-8xxnORC"
   },
   "source": [
    "### What did you know about your dataset?"
   ]
  },
  {
   "cell_type": "code",
   "execution_count": null,
   "metadata": {
    "id": "gfoNAAC-nUe_"
   },
   "outputs": [],
   "source": [
    "The data is in two files:\n",
    "titles.csv: Includes data about movies and TV shows that are currently available on Amazon Prime, with fields like title, type, release_year, genres, runtime, and imdb_score.\n",
    "credits.csv: Includes metadata for cast and crew on a per-title basis, with fields like name, role, and category.\n",
    "The titles.csv file has about 22,000+ rows and 12 columns, suggesting a large number of titles.\n",
    "The credits.csv file has approximately 98,000+ rows and 4 columns, listing detailed cast and crew details per title.\n",
    "The columns in the datasets have a combination of:\n",
    "Numerical data: e.g., runtime, imdb_score, release_year\n",
    "Categorical data: e.g., type, genres, title, language, country\n",
    "Text data: e.g., description, name, role\n",
    "We found missing values in some key columns, including:\n",
    "imdb_score, description, and runtime in titles.csv\n",
    "name and role in credits.csv\n",
    "Some duplicate rows are found in both datasets, which were identified and cleaned.\n",
    "The release_year column must be adequately converted into numeric format for timeline analysis.\n",
    "Preliminary observations reveal:\n",
    "A greater number of movies than TV shows.\n",
    "Drama, Comedy, and Action are popular genres.\n",
    "IMDb scores range from 1 to 10 and form a useful target for potential prediction using machine learning."
   ]
  },
  {
   "cell_type": "markdown",
   "metadata": {
    "id": "nA9Y7ga8ng1Z"
   },
   "source": [
    "## ***2. Understanding Your Variables***"
   ]
  },
  {
   "cell_type": "code",
   "execution_count": null,
   "metadata": {
    "id": "j7xfkqrt5Ag5"
   },
   "outputs": [],
   "source": [
    "# List all column names in titles dataset\n",
    "print(\"🎬 Titles Dataset Columns:\")\n",
    "print(titles_df.columns.tolist())\n",
    "\n",
    "# List all column names in credits dataset\n",
    "print(\"\\n👥 Credits Dataset Columns:\")\n",
    "print(credits_df.columns.tolist())\n"
   ]
  },
  {
   "cell_type": "code",
   "execution_count": null,
   "metadata": {
    "id": "DnOaZdaE5Q5t"
   },
   "outputs": [],
   "source": [
    "# Describe numerical features in titles dataset\n",
    "print(\"📈 Titles Dataset - Numerical Summary:\")\n",
    "print(titles_df.describe())\n",
    "\n",
    "# Optional: Include object (categorical) summary\n",
    "print(\"\\n📋 Titles Dataset - Categorical Summary:\")\n",
    "print(titles_df.describe(include=['object']))\n",
    "\n",
    "# Describe numerical data in credits dataset\n",
    "print(\"\\n👥 Credits Dataset - Summary:\")\n",
    "print(credits_df.describe())\n"
   ]
  },
  {
   "cell_type": "markdown",
   "metadata": {
    "id": "PBTbrJXOngz2"
   },
   "source": [
    "### Variables Description"
   ]
  },
  {
   "cell_type": "code",
   "execution_count": null,
   "metadata": {
    "id": "aJV4KIxSnxay"
   },
   "outputs": [],
   "source": [
    "| Column Name            | Description                                                      |\n",
    "| ---------------------- | ---------------------------------------------------------------- |\n",
    "| `id`                   | Unique identifier for every title.                               |\n",
    "| `title`                | Title of the film or television show.                            |\n",
    "| `type`                 | Type of content — either \"MOVIE\" or \"SHOW\".                      |\n",
    "| `description`          | Brief synopsis or summary of the title.                          |\n",
    "| `release_year`         | Release year of the content.                                     |\n",
    "| `age_certification`    | Age rating (e.g., PG, R, TV-14) applied to the content.          |\n",
    "| `runtime`              | Content length in minutes.                                       |\n",
    "| `genres`               | Array of genres that relate to the title (e.g., Action, Comedy).\n",
    "| `production_countries` | Countries in which the content was produced.                     |\n",
    "| `seasons`              | Number of seasons (for television shows only; `NaN` for films).  |\n",
    "| `imdb_id`              | IMDb title identifier.                                           |\n",
    "| `imdb_score`           | IMDb rating score between 0 and 10.                              |\n"
   ]
  },
  {
   "cell_type": "markdown",
   "metadata": {
    "id": "u3PMJOP6ngxN"
   },
   "source": [
    "### Check Unique Values for each variable."
   ]
  },
  {
   "cell_type": "code",
   "execution_count": null,
   "metadata": {
    "id": "zms12Yq5n-jE"
   },
   "outputs": [],
   "source": [
    "# Unique values in each column of the titles dataset\n",
    "print(\"🎬 Titles Dataset - Unique Values Count:\")\n",
    "for col in titles_df.columns:\n",
    "    unique_vals = titles_df[col].nunique()\n",
    "    print(f\"{col}: {unique_vals} unique values\")\n",
    "\n",
    "print(\"\\n\" + \"-\"*60 + \"\\n\")\n",
    "\n",
    "# Unique values in each column of the credits dataset\n",
    "print(\"👥 Credits Dataset - Unique Values Count:\")\n",
    "for col in credits_df.columns:\n",
    "    unique_vals = credits_df[col].nunique()\n",
    "    print(f\"{col}: {unique_vals} unique values\")\n"
   ]
  },
  {
   "cell_type": "markdown",
   "metadata": {
    "id": "dauF4eBmngu3"
   },
   "source": [
    "## 3. ***Data Wrangling***"
   ]
  },
  {
   "cell_type": "markdown",
   "metadata": {
    "id": "bKJF3rekwFvQ"
   },
   "source": [
    "### Data Wrangling Code"
   ]
  },
  {
   "cell_type": "code",
   "execution_count": null,
   "metadata": {
    "id": "wk-9a2fpoLcV"
   },
   "outputs": [],
   "source": [
    "# Remove duplicate rows from both datasets\n",
    "titles_df = titles_df.drop_duplicates()\n",
    "credits_df = credits_df.drop_duplicates()\n",
    "\n",
    "# Convert release_year to numeric (some entries may be invalid)\n",
    "titles_df['release_year'] = pd.to_numeric(titles_df['release_year'], errors='coerce')\n",
    "\n",
    "# Convert imdb_score and runtime to numeric (in case of incorrect types)\n",
    "titles_df['imdb_score'] = pd.to_numeric(titles_df['imdb_score'], errors='coerce')\n",
    "titles_df['runtime'] = pd.to_numeric(titles_df['runtime'], errors='coerce')\n",
    "\n",
    "# Fill missing values (optional handling)\n",
    "titles_df['age_certification'] = titles_df['age_certification'].fillna('Unknown')\n",
    "titles_df['genres'] = titles_df['genres'].fillna('Unknown')\n",
    "titles_df['production_countries'] = titles_df['production_countries'].fillna('Unknown')\n",
    "\n",
    "# Drop rows where essential columns are missing (e.g., title, imdb_score, type)\n",
    "titles_df = titles_df.dropna(subset=['title', 'type', 'imdb_score'])\n",
    "\n",
    "# Fill null values in credits dataset\n",
    "credits_df['name'] = credits_df['name'].fillna('Unknown')\n",
    "credits_df['role'] = credits_df['role'].fillna('Unknown')\n",
    "credits_df['category'] = credits_df['category'].fillna('Unknown')\n",
    "\n",
    "# Reset index after cleaning\n",
    "titles_df.reset_index(drop=True, inplace=True)\n",
    "credits_df.reset_index(drop=True, inplace=True)\n",
    "\n",
    "print(\"✅ Data wrangling complete. Dataset is ready for analysis.\")\n"
   ]
  },
  {
   "cell_type": "markdown",
   "metadata": {
    "id": "MSa1f5Uengrz"
   },
   "source": [
    "### What all manipulations have you done and insights you found?"
   ]
  },
  {
   "cell_type": "code",
   "execution_count": null,
   "metadata": {
    "id": "LbyXE7I1olp8"
   },
   "outputs": [],
   "source": [
    "Data Manipulations Done:\n",
    "Loaded and Inspected the Datasets:\n",
    "\n",
    "Loaded credits.csv and titles.csv with pandas.\n",
    "\n",
    "Showed the first few rows, shapes, and column information.\n",
    "\n",
    "Cleaned the Data:\n",
    "Deleted duplicate rows from both data sets in order to keep data quality.\n",
    "\n",
    "Converted key columns (release_year, runtime, imdb_score) into numeric type for suitable analysis.\n",
    "\n",
    "Filled missing categorical values (e.g., genres, production_countries, age_certification) with 'Unknown'.\n",
    "\n",
    "Dropped rows where the necessary information like title, type, or imdb_score was missing.\n",
    "\n",
    "Handled Missing Values:\n",
    "\n",
    "Visualized missing values with Seaborn heatmaps.\n",
    "\n",
    "Estimated missing entries across both datasets to determine imputation or dropping.\n",
    "\n",
    "Imputed missing values in the credits dataset (name, role, and category) with 'Unknown'.\n",
    "\n",
    "Column Type and Structure Adjustments:\n",
    "\n",
    "Confirmed all data types aligned with analysis (e.g., strings vs. numeric).\n",
    "\n",
    "Reset the DataFrame indices after cleaning procedures.\n",
    "\n"
   ]
  },
  {
   "cell_type": "markdown",
   "metadata": {
    "id": "GF8Ens_Soomf"
   },
   "source": [
    "## ***4. Data Vizualization, Storytelling & Experimenting with charts : Understand the relationships between variables***"
   ]
  },
  {
   "cell_type": "markdown",
   "metadata": {
    "id": "0wOQAZs5pc--"
   },
   "source": [
    "#### Chart - 1"
   ]
  },
  {
   "cell_type": "code",
   "execution_count": null,
   "metadata": {
    "id": "7v_ESjsspbW7"
   },
   "outputs": [],
   "source": [
    "import matplotlib.pyplot as plt\n",
    "import seaborn as sns\n",
    "\n",
    "# Set the plot style\n",
    "sns.set(style=\"whitegrid\")\n",
    "\n",
    "# Countplot for content type\n",
    "plt.figure(figsize=(8, 5))\n",
    "sns.countplot(data=titles_df, x='type', palette='Set2')\n",
    "\n",
    "plt.title('Chart 1: Distribution of Content Type on Amazon Prime', fontsize=14)\n",
    "plt.xlabel('Content Type')\n",
    "plt.ylabel('Count')\n",
    "plt.tight_layout()\n",
    "plt.show()\n"
   ]
  },
  {
   "cell_type": "markdown",
   "metadata": {
    "id": "K5QZ13OEpz2H"
   },
   "source": [
    "##### 1. Why did you pick the specific chart?"
   ]
  },
  {
   "cell_type": "code",
   "execution_count": null,
   "metadata": {
    "id": "XESiWehPqBRc"
   },
   "outputs": [],
   "source": [
    "I choose a bar chart (countplot) to display content types (Movies vs. TV Shows) distribution on Amazon Prime because:\n",
    "\n",
    "It is easy, unambiguous, and very good at displaying categorical variable frequencies.\n",
    "\n",
    "The type column has few unique categories, so a bar chart is the most appropriate and readable form.\n",
    "\n",
    "This visualization serves to answer a basic question early in the analysis:\n",
    "\"How much more content type does Amazon Prime have — movie or show?\"\n",
    "\n",
    "Knowing the mix of movies and shows provides context for all subsequent analysis (e.g., genres, runtime, ratings).\n",
    "\n",
    "Bar charts are well-suited to compare counts between discrete categories, which is exactly what is needed here."
   ]
  },
  {
   "cell_type": "markdown",
   "metadata": {
    "id": "lQ7QKXXCp7Bj"
   },
   "source": [
    "##### 2. What is/are the insight(s) found from the chart?"
   ]
  },
  {
   "cell_type": "code",
   "execution_count": null,
   "metadata": {
    "id": "C_j1G7yiqdRP"
   },
   "outputs": [],
   "source": [
    "From the content type distribution chart (Chart 1), we observe that:\n",
    "\n",
    "Movies significantly outnumber TV Shows on Amazon Prime.\n",
    "\n",
    "This indicates that Amazon Prime focuses more on offering movie content compared to series.\n",
    "\n",
    "The imbalance may reflect user demand, licensing strategy, or production cost considerations.\n",
    "\n",
    "For data-driven decisions, this insight suggests that most analysis and engagement on the platform is likely centered around movies.\n",
    "\n",
    "It also sets the stage for deeper analysis, such as whether movies also dominate in terms of higher IMDb ratings, popular genres, or runtime patterns."
   ]
  },
  {
   "cell_type": "markdown",
   "metadata": {
    "id": "448CDAPjqfQr"
   },
   "source": [
    "##### 3. Will the gained insights help creating a positive business impact?\n",
    "Are there any insights that lead to negative growth? Justify with specific reason."
   ]
  },
  {
   "cell_type": "code",
   "execution_count": null,
   "metadata": {
    "id": "3cspy4FjqxJW"
   },
   "outputs": [],
   "source": [
    "Positive Business Impact:\n",
    "Yes, the conclusions derived from the analysis can guide Amazon Prime Video into more strategic, better-informed decisions:\n",
    "Content Strategy Optimization:\n",
    "\n",
    "Discovering that movies predominate the catalog enables Amazon to determine whether this reflects user demand.\n",
    "\n",
    "Should viewership patterns indicate growing interest in TV shows, this knowledge will trigger a shift of investment in series production.\n",
    "\n",
    "User Experience Personalization:\n",
    "\n",
    "Knowing content type, genres, and certification distribution allows for personalization of recommendations.\n",
    "\n",
    "For instance, if the majority of viewers like thriller movies, Amazon can promote or emphasize content in such a genre.\n",
    "\n",
    "Data-Driven Production Decisions:\n",
    "\n",
    "Knowledge of popular genres and highest-rated IMDb scores guide Amazon to invest in content that will likely perform better, enhancing ROI.\n",
    "\n",
    "Expansion Strategy Across the World:\n",
    "\n",
    "Having knowledge of the distribution of production_countries can assist the platform in achieving a balance between global and local content, appealing to a larger user base.\n",
    "\n",
    "⚠️ Negative Growth Indicators (with Reason):\n",
    "While the findings are overall encouraging, risks or points of concern are also identified:\n",
    "\n",
    "Over-Reliance on Movie Content:\n",
    "\n",
    "A much larger proportion of movies than TV shows could reduce long-term user engagement.\n",
    "\n",
    "TV shows, particularly multi-seasons, promote binge-watching and longer retention, which is the primary means of decreasing churn.\n",
    "\n",
    "Limited Family/Youth Content\n",
    "\n",
    "If most of the catalog would be restricted to mature audiences (e.g., TV-MA, R), there could be missed opportunities in family or kids segments.\n",
    "\n",
    "Disney+ has demonstrated robust performance by focusing on younger groups.\n",
    "\n",
    "Saturation of Genres:\n",
    "\n",
    "If a particular genre such as \"Drama\" or \"Romance\" is too dominant, it might lead to content fatigue.\n",
    "\n",
    "Genre diversification according to user preference can enhance satisfaction among family viewers and increase the reach.\n",
    "\n"
   ]
  },
  {
   "cell_type": "markdown",
   "metadata": {
    "id": "KSlN3yHqYklG"
   },
   "source": [
    "#### Chart - 2"
   ]
  },
  {
   "cell_type": "code",
   "execution_count": null,
   "metadata": {
    "id": "R4YgtaqtYklH"
   },
   "outputs": [],
   "source": [
    "import matplotlib.pyplot as plt\n",
    "import seaborn as sns\n",
    "\n",
    "# Count the most common genres\n",
    "top_genres = titles_df['genres'].value_counts().head(10)\n",
    "\n",
    "# Plot the top 10 genres\n",
    "plt.figure(figsize=(10, 6))\n",
    "sns.barplot(x=top_genres.values, y=top_genres.index, palette='viridis')\n",
    "\n",
    "plt.title('Chart 2: Top 10 Most Common Genres on Amazon Prime', fontsize=14)\n",
    "plt.xlabel('Number of Titles')\n",
    "plt.ylabel('Genres')\n",
    "plt.tight_layout()\n",
    "plt.show()\n"
   ]
  },
  {
   "cell_type": "markdown",
   "metadata": {
    "id": "t6dVpIINYklI"
   },
   "source": [
    "##### 1. Why did you pick the specific chart?"
   ]
  },
  {
   "cell_type": "code",
   "execution_count": null,
   "metadata": {
    "id": "5aaW0BYyYklI"
   },
   "outputs": [],
   "source": [
    "I selected a horizontal bar chart to visualize the Top 10 most common genres on Amazon Prime for the following reasons:\n",
    "\n",
    "A bar chart is the best fit for comparing the frequency of categorical data like genres.\n",
    "\n",
    "By using the top 10 genres, we keep the visualization clear, focused, and easy to interpret, avoiding clutter from rare or unique genres.\n",
    "\n",
    "The chart helps answer key business questions like:\n",
    "\n",
    "Which genres dominate the content library?\n",
    "\n",
    "Are Amazon Prime’s offerings aligned with popular audience preferences?\n",
    "\n",
    "Displaying genres on the Y-axis makes it easier to read longer category names, which improves visual clarity.\n",
    "\n",
    "It reveals patterns in content strategy and can help guide content investment, marketing, and recommendation systems.\n",
    "\n",
    "This chart was chosen for its ability to provide clear, actionable insights about what types of stories Amazon is prioritizing — a key metric in content strategy and user engagement analysis.\n",
    "\n"
   ]
  },
  {
   "cell_type": "markdown",
   "metadata": {
    "id": "ijmpgYnKYklI"
   },
   "source": [
    "##### 2. What is/are the insight(s) found from the chart?"
   ]
  },
  {
   "cell_type": "code",
   "execution_count": null,
   "metadata": {
    "id": "PSx9atu2YklI"
   },
   "outputs": [],
   "source": [
    "From the chart showing the top 10 most common genres on Amazon Prime:\n",
    "\n",
    "Drama is by far the most frequent genre, indicating a strong emphasis on serious, character-driven storytelling.\n",
    "\n",
    "Comedy and Action follow closely, showing that Amazon also invests in entertaining and fast-paced content.\n",
    "\n",
    "Other highly represented genres include Romance, Thriller, and Documentary, suggesting a mix of emotional, suspenseful, and factual content to serve diverse viewer interests.\n",
    "\n",
    "The presence of genres like Crime, Horror, and Adventure shows that Amazon is also targeting niche audiences with specific tastes.\n",
    "\n",
    "The wide variety of genres in the top 10 suggests that Amazon Prime is trying to appeal to a broad, global user base rather than focusing on a narrow content type."
   ]
  },
  {
   "cell_type": "markdown",
   "metadata": {
    "id": "-JiQyfWJYklI"
   },
   "source": [
    "##### 3. Will the gained insights help creating a positive business impact?\n",
    "Are there any insights that lead to negative growth? Justify with specific reason."
   ]
  },
  {
   "cell_type": "code",
   "execution_count": null,
   "metadata": {
    "id": "BcBbebzrYklV"
   },
   "outputs": [],
   "source": [
    "Positive Business Impact through Genre Insights:\n",
    "Yes, the observations made from the Top 10 Genres chart can assist Amazon Prime Video in making more intelligent business decisions:\n",
    "\n",
    "Content Investment Strategy:\n",
    "\n",
    "By discovering the most prevalent genres (e.g., Drama, Comedy, Action), Amazon can align its production and acquisition expenses more towards high-demand genres.\n",
    "\n",
    "It also enables them to study which genres work best in terms of user interaction and IMDb ratings.\n",
    "\n",
    "Better Content Recommendation:\n",
    "\n",
    "Having a knowledge of what genres occur most frequently allows Amazon to train improved recommendation engines, providing users with more targeted experiences, resulting in greater watch time and retention.\n",
    "\n",
    "Audience Targeting & Marketing:\n",
    "\n",
    "Amazon is able to develop genre-based campaigns (e.g., \"Top Thrillers this Month\" or \"New Romantic Comedies\") to attract users having particular content interests.\n",
    "\n",
    "Platform Differentiation:\n",
    "\n",
    "Insights into genre diversity can assist Amazon in differentiating from rivals such as Netflix or Disney+ by unlocking exclusive niches (e.g., robust documentary presence).\n",
    "\n",
    "⚠️ Risks for Negative Growth:\n",
    "While the chart provides useful insights, it also discloses some potential risks or areas of concern:\n",
    "\n",
    "Genre Saturation (Over-Reliance):\n",
    "\n",
    "Excessive focus within genres such as Drama and Comedy can cause content fatigue in the users, particularly if most of it is low-performing.\n",
    "\n",
    "Under-investing in established but underserved genres like Sci-Fi, Animation, or Kids' can lead Amazon to forfeit opportunities in under-covered categories like Sci-Fi, Animation, or Kids' content.\n",
    "\n",
    "Overlooking Niche or Emerging Genres:\n",
    "\n",
    "Amazon can lose audiences to competing platforms targeting these emerging genres if they are not sufficiently serving genres on the rise (e.g., K-Drama, True Crime, Fantasy).\n",
    "\n",
    "Restricted Demographic Penetration:\n",
    "\n",
    "Underrepresentation or lack of family-friendly, teen, or regional-language genres might limit reach among particular markets or age brackets.\n",
    "\n"
   ]
  },
  {
   "cell_type": "markdown",
   "metadata": {
    "id": "EM7whBJCYoAo"
   },
   "source": [
    "#### Chart - 3"
   ]
  },
  {
   "cell_type": "code",
   "execution_count": null,
   "metadata": {
    "id": "t6GMdE67YoAp"
   },
   "outputs": [],
   "source": [
    "import matplotlib.pyplot as plt\n",
    "import seaborn as sns\n",
    "\n",
    "# Group by type and calculate average IMDb score\n",
    "avg_scores = titles_df.groupby('type')['imdb_score'].mean().reset_index()\n",
    "\n",
    "# Plot the average IMDb score by content type\n",
    "plt.figure(figsize=(8, 5))\n",
    "sns.barplot(data=avg_scores, x='type', y='imdb_score', palette='coolwarm')\n",
    "\n",
    "plt.title('Chart 3: Average IMDb Score by Content Type', fontsize=14)\n",
    "plt.xlabel('Content Type')\n",
    "plt.ylabel('Average IMDb Score')\n",
    "plt.ylim(0, 10)\n",
    "plt.tight_layout()\n",
    "plt.show()\n"
   ]
  },
  {
   "cell_type": "markdown",
   "metadata": {
    "id": "fge-S5ZAYoAp"
   },
   "source": [
    "##### 1. Why did you pick the specific chart?"
   ]
  },
  {
   "cell_type": "code",
   "execution_count": null,
   "metadata": {
    "id": "5dBItgRVYoAp"
   },
   "outputs": [],
   "source": [
    "Positive Business Impact through Genre Insights:\n",
    "Yes, the observations made from the Top 10 Genres chart can assist Amazon Prime Video in making more intelligent business decisions:\n",
    "\n",
    "Content Investment Strategy:\n",
    "\n",
    "By discovering the most prevalent genres (e.g., Drama, Comedy, Action), Amazon can align its production and acquisition expenses more towards high-demand genres.\n",
    "\n",
    "It also enables them to study which genres work best in terms of user interaction and IMDb ratings.\n",
    "\n",
    "Better Content Recommendation:\n",
    "\n",
    "Having a knowledge of what genres occur most frequently allows Amazon to train improved recommendation engines, providing users with more targeted experiences, resulting in greater watch time and retention.\n",
    "\n",
    "Audience Targeting & Marketing:\n",
    "\n",
    "Amazon is able to develop genre-based campaigns (e.g., \"Top Thrillers this Month\" or \"New Romantic Comedies\") to attract users having particular content interests.\n",
    "\n",
    "Platform Differentiation:\n",
    "\n",
    "Insights into genre diversity can assist Amazon in differentiating from rivals such as Netflix or Disney+ by unlocking exclusive niches (e.g., robust documentary presence).\n",
    "\n",
    "⚠️ Risks for Negative Growth:\n",
    "While the chart provides useful insights, it also discloses some potential risks or areas of concern:\n",
    "\n",
    "Genre Saturation (Over-Reliance):\n",
    "\n",
    "Excessive focus within genres such as Drama and Comedy can cause content fatigue in the users, particularly if most of it is low-performing.\n",
    "\n",
    "Under-investing in established but underserved genres like Sci-Fi, Animation, or Kids' can lead Amazon to forfeit opportunities in under-covered categories like Sci-Fi, Animation, or Kids' content.\n"
   ]
  },
  {
   "cell_type": "markdown",
   "metadata": {
    "id": "85gYPyotYoAp"
   },
   "source": [
    "##### 2. What is/are the insight(s) found from the chart?"
   ]
  },
  {
   "cell_type": "code",
   "execution_count": null,
   "metadata": {
    "id": "4jstXR6OYoAp"
   },
   "outputs": [],
   "source": [
    "The chart reveals that TV Shows have a slightly higher average IMDb score than Movies on Amazon Prime.\n",
    "\n",
    "This suggests that, although movies make up the majority of the catalog, TV shows may deliver better viewer satisfaction based on ratings.\n",
    "\n",
    "This could be due to deeper storytelling, longer viewer engagement, or stronger audience connection with characters and plotlines in shows.\n",
    "\n",
    "It highlights a potential strategic opportunity: Amazon Prime could focus on producing or acquiring high-quality series to increase retention and long-term viewer loyalty.\n",
    "\n",
    "Alternatively, this insight also reveals a gap in movie quality—suggesting Amazon may need to invest in improving the production value, script quality, or curation of its movie offerings."
   ]
  },
  {
   "cell_type": "markdown",
   "metadata": {
    "id": "RoGjAbkUYoAp"
   },
   "source": [
    "##### 3. Will the gained insights help creating a positive business impact?\n",
    "Are there any insights that lead to negative growth? Justify with specific reason."
   ]
  },
  {
   "cell_type": "code",
   "execution_count": null,
   "metadata": {
    "id": "zfJ8IqMcYoAp"
   },
   "outputs": [],
   "source": [
    "Positive Business Impact:\n",
    "The findings from Chart 3 — that TV Shows have a greater average IMDb rating than Movies — can inform business decision-making directly that fuels growth:\n",
    "Strategic Investment in High-Quality TV Shows\n",
    "As shows average better in their scores, Amazon can invest more in or license more series with robust storylines, which tend to lead to longer engagement and greater retention.\n",
    "This can assist in lowering churn rates and watch time, particularly for subscription services like Prime Video.\n",
    "Movie Content Improvement:\n",
    "The lower movie average IMDb ratings identify a potential to enhance movie content quality by means of superior scripts, casting, directing, or curation.Improving movie quality would enhance user satisfaction over the larger catalog (given that movies are more common).\n",
    "\n",
    "Personalized Recommendation\n",
    "\n",
    "Knowing that shows tend to perform well can assist Amazon in suggesting more popular shows to new users, which can improve first impressions and retention.\n",
    "Possible Risk or Negative Growth Indicator:\n",
    "There is also a possible point of concern:\n",
    "\n",
    "Quality Gap in Movies:\n",
    "\n",
    "Even though films are the most frequent type of content, they have a lower average score. This discrepancy between quantity and quality may cause viewer frustration if not rectified.\n",
    "\n",
    "If customers find most films to be disappointing, they could switch to alternatives such as Netflix or Disney+, which provide higher-rated or more selective film choices.\n",
    "\n",
    "Over-reliance on TV Show Ratings:\n",
    "\n",
    "Dependence on excessive TV show ratings could miss the enormous number of movies watched. If focus is placed too heavily on enhancing movie quality, Amazon could forego interest from occasional viewers, who tend to watch more films than shows.\n",
    "\n"
   ]
  },
  {
   "cell_type": "markdown",
   "metadata": {
    "id": "4Of9eVA-YrdM"
   },
   "source": [
    "#### Chart - 4"
   ]
  },
  {
   "cell_type": "code",
   "execution_count": null,
   "metadata": {
    "id": "irlUoxc8YrdO"
   },
   "outputs": [],
   "source": [
    "import matplotlib.pyplot as plt\n",
    "import seaborn as sns\n",
    "\n",
    "# Exclude missing or unknown genres\n",
    "genre_scores = titles_df[titles_df['genres'].notnull() & (titles_df['genres'] != 'Unknown')]\n",
    "\n",
    "# Group by genre and calculate average IMDb score\n",
    "avg_genre_score = genre_scores.groupby('genres')['imdb_score'].mean().sort_values(ascending=False).head(10)\n",
    "\n",
    "# Plot top 10 genres by average IMDb score\n",
    "plt.figure(figsize=(10, 6))\n",
    "sns.barplot(x=avg_genre_score.values, y=avg_genre_score.index, palette='crest')\n",
    "\n",
    "plt.title('Chart 4: Top 10 Genres by Average IMDb Score', fontsize=14)\n",
    "plt.xlabel('Average IMDb Score')\n",
    "plt.ylabel('Genres')\n",
    "plt.xlim(0, 10)\n",
    "plt.tight_layout()\n",
    "plt.show()\n"
   ]
  },
  {
   "cell_type": "markdown",
   "metadata": {
    "id": "iky9q4vBYrdO"
   },
   "source": [
    "##### 1. Why did you pick the specific chart?"
   ]
  },
  {
   "cell_type": "markdown",
   "metadata": {
    "id": "aJRCwT6DYrdO"
   },
   "source": [
    "I chose this chart to visualize the average IMDb score by genre because:\n",
    "\n",
    "It reveals how well each genre is received by audiences, based on their IMDb ratings.\n",
    "\n",
    "While previous charts showed which genres are most common, this one adds a quality dimension by showing how viewers actually feel about those genres.\n",
    "\n",
    "A horizontal bar chart is ideal here because:\n",
    "\n",
    "Genre names can be long, and displaying them on the Y-axis keeps the chart readable.\n",
    "\n",
    "It's easy to compare the average scores side by side.\n",
    "\n",
    "The chart helps identify high-performing genres (like Documentary, Crime, or Thriller) and low-performing ones, offering actionable insights for:\n",
    "\n",
    "Content production priorities\n",
    "\n",
    "Licensing and acquisition decisions\n",
    "\n",
    "Platform personalization and user targeting\n",
    "\n",
    "This chart was chosen because it connects audience sentiment (IMDb scores) with genre categories, which is crucial for improving content strategy and user engagement."
   ]
  },
  {
   "cell_type": "markdown",
   "metadata": {
    "id": "F6T5p64dYrdO"
   },
   "source": [
    "##### 2. What is/are the insight(s) found from the chart?"
   ]
  },
  {
   "cell_type": "code",
   "execution_count": null,
   "metadata": {
    "id": "Xx8WAJvtYrdO"
   },
   "outputs": [],
   "source": [
    "The chart reveals that genres such as Documentary, Crime, Thriller, and History have some of the highest average IMDb scores on Amazon Prime.\n",
    "\n",
    "These genres are likely better received by audiences because they offer more depth, factual storytelling, or intense narratives that resonate with viewers.\n",
    "\n",
    "Genres that are more niche or focused, like Documentaries or Biographies, tend to receive higher critical appreciation compared to broader genres like Comedy or Romance.\n",
    "\n",
    "This suggests that high-quality content doesn’t always align with the most frequent genres (e.g., Drama and Comedy were more common but not always top-rated).\n",
    "\n",
    "The insight supports the idea that Amazon could invest more in well-performing genres — even if they’re not the most common — to elevate platform quality and user satisfaction."
   ]
  },
  {
   "cell_type": "markdown",
   "metadata": {
    "id": "y-Ehk30pYrdP"
   },
   "source": [
    "##### 3. Will the gained insights help creating a positive business impact?\n",
    "Are there any insights that lead to negative growth? Justify with specific reason."
   ]
  },
  {
   "cell_type": "code",
   "execution_count": null,
   "metadata": {
    "id": "jLNxxz7MYrdP"
   },
   "outputs": [],
   "source": [
    " Positive Business Impact:\n",
    "The insights from Chart 4 — showing the top-rated genres by average IMDb score — can significantly help Amazon Prime drive strategic content decisions:\n",
    "\n",
    "Invest in High-Rated Genres:\n",
    "\n",
    "Genres like Documentary, Crime, and Thriller received the highest average IMDb scores.\n",
    "\n",
    "This indicates strong audience approval, suggesting Amazon can benefit from producing or acquiring more content in these genres to improve platform reputation and satisfaction.\n",
    "\n",
    "Niche Audience Engagement:\n",
    "\n",
    "Although not the most frequent, top-rated genres often attract loyal niche audiences, which helps build community and long-term retention.\n",
    "\n",
    "Promoting or curating content by high-rated genres can lead to better user experience and higher engagement.\n",
    "\n",
    "Data-Driven Marketing & Curation:\n",
    "\n",
    "Insights can inform genre-based content promotions (“Top-rated Documentaries” or “Best Thrillers”), improving discovery and user satisfaction.\n",
    "Potential Indicators of Negative Growth:\n",
    "Mismatch Between Quantity and Quality:\n",
    "\n",
    "More common genres like Drama and Comedy, though frequently produced, may not appear in the top-rated list.\n",
    "\n",
    "This suggests a gap between what is produced most and what audiences actually value, potentially leading to viewer fatigue or dissatisfaction over time.\n",
    "\n",
    "Underutilization of High-Quality Genres:\n",
    "\n",
    "If high-rated genres like Documentary or History are underrepresented, Amazon may be missing opportunities to deliver more of what audiences prefer.\n",
    "\n",
    "This could result in audience migration to competitors that better serve those preferences.\n",
    "\n"
   ]
  },
  {
   "cell_type": "markdown",
   "metadata": {
    "id": "bamQiAODYuh1"
   },
   "source": [
    "#### Chart - 5"
   ]
  },
  {
   "cell_type": "code",
   "execution_count": null,
   "metadata": {
    "id": "TIJwrbroYuh3"
   },
   "outputs": [],
   "source": [
    "import matplotlib.pyplot as plt\n",
    "import seaborn as sns\n",
    "\n",
    "# Drop rows with missing or invalid release_year\n",
    "titles_years = titles_df[titles_df['release_year'].notnull()]\n",
    "\n",
    "# Convert to integer if needed\n",
    "titles_years['release_year'] = titles_years['release_year'].astype(int)\n",
    "\n",
    "# Count of titles per release year\n",
    "yearly_counts = titles_years['release_year'].value_counts().sort_index()\n",
    "\n",
    "# Plot the trend\n",
    "plt.figure(figsize=(12, 6))\n",
    "sns.lineplot(x=yearly_counts.index, y=yearly_counts.values, marker='o', color='teal')\n",
    "\n",
    "plt.title('Chart 5: Number of Titles Released Per Year', fontsize=14)\n",
    "plt.xlabel('Release Year')\n",
    "plt.ylabel('Number of Titles')\n",
    "plt.grid(True)\n",
    "plt.tight_layout()\n",
    "plt.show()\n"
   ]
  },
  {
   "cell_type": "markdown",
   "metadata": {
    "id": "QHF8YVU7Yuh3"
   },
   "source": [
    "##### 1. Why did you pick the specific chart?"
   ]
  },
  {
   "cell_type": "code",
   "execution_count": null,
   "metadata": {
    "id": "dcxuIMRPYuh3"
   },
   "outputs": [],
   "source": [
    "I chose this line chart to visualize the number of titles released per year because:\n",
    "\n",
    "It helps uncover trends over time — specifically, how Amazon Prime’s content library has grown, stabilized, or declined in different years.\n",
    "\n",
    "Time series data like release_year is best visualized with a line chart, as it clearly shows patterns, spikes, and drops across a continuous timeline.\n",
    "\n",
    "The chart answers a critical business question:\n",
    "\"When did Amazon invest more heavily in new content?\"\n",
    "\n",
    "It can help Amazon assess the impact of strategic decisions, such as ramping up original productions or licensing content during certain periods (e.g., post-2015 growth).\n",
    "\n",
    "This chart supports long-term planning by identifying content output trends, seasonal patterns, or gaps that may need to be addressed."
   ]
  },
  {
   "cell_type": "markdown",
   "metadata": {
    "id": "GwzvFGzlYuh3"
   },
   "source": [
    "##### 2. What is/are the insight(s) found from the chart?"
   ]
  },
  {
   "cell_type": "code",
   "execution_count": null,
   "metadata": {
    "id": "uyqkiB8YYuh3"
   },
   "outputs": [],
   "source": [
    "The chart shows a clear upward trend in content production over the years, particularly from 2015 onward, indicating Amazon Prime's aggressive expansion strategy.\n",
    "\n",
    "There is a noticeable spike in the number of titles released between 2017 and 2020, suggesting increased investment in original and licensed content during that period.\n",
    "\n",
    "This surge aligns with Amazon’s strategy to compete with platforms like Netflix and Disney+, by offering a diverse and growing content library.\n",
    "\n",
    "The data may also reflect industry-wide growth, as streaming demand increased globally — particularly around the COVID-19 pandemic, when streaming consumption surged.\n",
    "\n",
    "Any recent drop in titles (if visible in later years) could point to shifting strategies, production delays, or quality-over-quantity approaches."
   ]
  },
  {
   "cell_type": "markdown",
   "metadata": {
    "id": "qYpmQ266Yuh3"
   },
   "source": [
    "##### 3. Will the gained insights help creating a positive business impact?\n",
    "Are there any insights that lead to negative growth? Justify with specific reason."
   ]
  },
  {
   "cell_type": "code",
   "execution_count": null,
   "metadata": {
    "id": "_WtzZ_hCYuh4"
   },
   "outputs": [],
   "source": [
    "Positive Business Impact:\n",
    "Yes, the insights from Chart 5 — which shows the number of titles released per year — can positively impact Amazon Prime's business in several ways:\n",
    "\n",
    "Evidence of Strategic Growth:\n",
    "\n",
    "The steady rise in content production, especially after 2015, reflects Amazon’s deliberate expansion strategy, aimed at competing with other major streaming platforms.\n",
    "\n",
    "It confirms the company’s commitment to building a large, diverse content library, which helps attract and retain users.\n",
    "\n",
    "Investment Timing Validation:\n",
    "\n",
    "The spike in content releases around 2017–2020 suggests strategic investments that likely contributed to user acquisition and brand growth.\n",
    "\n",
    "Understanding when major expansions occurred allows Amazon to correlate release volume with subscription growth, engagement, and churn.\n",
    "\n",
    "Forecasting & Planning:\n",
    "\n",
    "This historical view allows Amazon to forecast content demand, plan release calendars, and manage content budgets more efficiently.\n",
    "\n",
    "Potential Risk / Indicator of Negative Growth:\n",
    "While the overall trend is positive, the chart may also reveal potential risks:\n",
    "\n",
    "Overproduction Without Quality:\n",
    "\n",
    "If the number of titles increases but average IMDb scores do not improve, Amazon risks creating a quantity-over-quality perception, which can erode trust.\n",
    "\n",
    "A high content volume can overwhelm users, making it harder to find high-quality content (content discovery fatigue).\n",
    "\n",
    "Possible Decline or Plateau:\n",
    "\n",
    "If the chart shows a drop in recent years (e.g., post-2021), it could indicate:\n",
    "\n",
    "Slowed production due to global events (e.g., COVID, strikes).\n",
    "\n",
    "A shift in strategy (e.g., focusing on fewer but higher-budget productions).\n",
    "\n",
    "Or potential budget cuts, which may impact long-term content variety or platform competitiveness.\n",
    "\n"
   ]
  },
  {
   "cell_type": "markdown",
   "metadata": {
    "id": "OH-pJp9IphqM"
   },
   "source": [
    "#### Chart - 6"
   ]
  },
  {
   "cell_type": "code",
   "execution_count": null,
   "metadata": {
    "id": "kuRf4wtuphqN"
   },
   "outputs": [],
   "source": [
    "import matplotlib.pyplot as plt\n",
    "import seaborn as sns\n",
    "\n",
    "# Replace missing age certifications with 'Unknown' if not already handled\n",
    "titles_df['age_certification'] = titles_df['age_certification'].fillna('Unknown')\n",
    "\n",
    "# Countplot for age certification\n",
    "plt.figure(figsize=(10, 6))\n",
    "sns.countplot(data=titles_df, x='age_certification', order=titles_df['age_certification'].value_counts().index, palette='Set3')\n",
    "\n",
    "plt.title('Chart 6: Distribution of Content by Age Certification', fontsize=14)\n",
    "plt.xlabel('Age Certification')\n",
    "plt.ylabel('Number of Titles')\n",
    "plt.xticks(rotation=45)\n",
    "plt.tight_layout()\n",
    "plt.show()\n"
   ]
  },
  {
   "cell_type": "markdown",
   "metadata": {
    "id": "bbFf2-_FphqN"
   },
   "source": [
    "##### 1. Why did you pick the specific chart?"
   ]
  },
  {
   "cell_type": "code",
   "execution_count": null,
   "metadata": {
    "id": "loh7H2nzphqN"
   },
   "outputs": [],
   "source": [
    "I selected this bar chart to visualize the distribution of content by age certification because:\n",
    "\n",
    "It directly answers a key question in content strategy:\n",
    "\"What audience age groups is Amazon Prime targeting the most?\"\n",
    "\n",
    "Age certifications (like PG, TV-14, R, TV-MA) reflect the suitability of content for different viewer segments, such as children, teens, and adults.\n",
    "\n",
    "A countplot (bar chart) is ideal for comparing the frequency of discrete categories like age ratings.\n",
    "\n",
    "This chart helps identify:\n",
    "\n",
    "Whether the platform is family-friendly or leans heavily toward adult-oriented content.\n",
    "\n",
    "If there's an opportunity to diversify and better serve underrepresented age groups."
   ]
  },
  {
   "cell_type": "markdown",
   "metadata": {
    "id": "_ouA3fa0phqN"
   },
   "source": [
    "##### 2. What is/are the insight(s) found from the chart?"
   ]
  },
  {
   "cell_type": "code",
   "execution_count": null,
   "metadata": {
    "id": "VECbqPI7phqN"
   },
   "outputs": [],
   "source": [
    "The chart reveals that a significant portion of Amazon Prime's content is rated for mature audiences, such as TV-MA and R.\n",
    "\n",
    "This indicates that Amazon is currently targeting adult viewers more heavily than children or family audiences.\n",
    "\n",
    "There is comparatively less content rated for younger audiences, such as TV-G, G, or PG, suggesting a gap in family or kids’ programming.\n",
    "\n",
    "The presence of a large number of titles with the label “Unknown” also suggests that some content may lack clear classification, which could affect parental controls and content filtering.\n",
    "\n",
    "These insights highlight both strengths and opportunities:\n",
    "\n",
    "Strength: A strong library for mature audiences.\n",
    "\n",
    "Opportunity: Expand into youth and family segments, potentially increasing the platform’s appeal to a broader household demographic."
   ]
  },
  {
   "cell_type": "markdown",
   "metadata": {
    "id": "Seke61FWphqN"
   },
   "source": [
    "##### 3. Will the gained insights help creating a positive business impact?\n",
    "Are there any insights that lead to negative growth? Justify with specific reason."
   ]
  },
  {
   "cell_type": "code",
   "execution_count": null,
   "metadata": {
    "id": "DW4_bGpfphqN"
   },
   "outputs": [],
   "source": [
    "The insights from Chart 6 — showing the distribution of content by age certification — can directly help Amazon Prime:\n",
    "\n",
    "Refine Target Audience Strategy:\n",
    "\n",
    "With a strong focus on adult-oriented content (TV-MA, R), Amazon is clearly appealing to mature audiences who prefer more complex or intense content.\n",
    "\n",
    "This focus can help differentiate the platform from competitors like Disney+, which primarily targets younger viewers.\n",
    "\n",
    "Improve User Experience and Personalization:\n",
    "\n",
    "Understanding content ratings allows Amazon to offer better parental control features and age-based recommendations, increasing user trust and family adoption.\n",
    "\n",
    "Expand Market Reach:\n",
    "\n",
    "By identifying the lack of family-friendly and children’s content, Amazon can intentionally invest in underserved segments — helping to attract families, younger users, and schools.\n",
    "\n",
    "⚠️ Potential Risks or Indicators of Negative Growth:\n",
    "Limited Content for Younger Audiences:\n",
    "\n",
    "The chart shows relatively low representation of PG, G, and TV-G content, which could limit Amazon’s growth in the family and kids’ entertainment market.\n",
    "\n",
    "Competitors like Netflix and Disney+ are strong in this area, meaning Amazon might lose family viewership or miss out on subscription bundles targeted at parents.\n",
    "\n",
    "Unknown Age Ratings:\n",
    "\n",
    "A notable number of titles have an “Unknown” rating. This inconsistency can lead to poor user trust, especially for families who want to filter content for children.\n",
    "\n",
    "It also affects recommendation accuracy and undermines Amazon’s ability to clearly classify and promote its content.\n",
    "\n"
   ]
  },
  {
   "cell_type": "markdown",
   "metadata": {
    "id": "q29F0dvdveiT"
   },
   "source": [
    "#### Chart - 15 - Pair Plot"
   ]
  },
  {
   "cell_type": "code",
   "execution_count": null,
   "metadata": {
    "id": "o58-TEIhveiU"
   },
   "outputs": [],
   "source": [
    "# import seaborn as sns\n",
    "import matplotlib.pyplot as plt\n",
    "\n",
    "# Select relevant numerical columns for pair plot\n",
    "pairplot_df = titles_df[['release_year', 'runtime', 'imdb_score']].dropna()\n",
    "\n",
    "# Create the pair plot\n",
    "sns.pairplot(pairplot_df, diag_kind='kde', palette='husl')\n",
    "\n",
    "plt.suptitle('Pair Plot: Relationships Between Release Year, Runtime & IMDb Score', y=1.02, fontsize=14)\n",
    "plt.show()\n"
   ]
  },
  {
   "cell_type": "markdown",
   "metadata": {
    "id": "EXh0U9oCveiU"
   },
   "source": [
    "##### 1. Why did you pick the specific chart?"
   ]
  },
  {
   "cell_type": "code",
   "execution_count": null,
   "metadata": {
    "id": "eMmPjTByveiU"
   },
   "outputs": [],
   "source": [
    "I selected the pair plot to explore relationships between multiple numerical variables in the dataset — specifically release_year, runtime, and imdb_score — because:\n",
    "\n",
    "It provides a compact, multi-dimensional view of how numerical features interact with each other.\n",
    "\n",
    "It helps identify:\n",
    "\n",
    "Correlations (e.g., Does longer runtime result in higher IMDb scores?).\n",
    "\n",
    "Trends over time (e.g., Have IMDb scores changed across release years?).\n",
    "\n",
    "Outliers or clusters that may not be obvious in individual plots.\n",
    "\n",
    "The diagonal histograms (or KDEs) give insights into individual variable distributions, while the scatter plots between variables help spot potential patterns or anomalies.\n",
    "\n",
    "It's especially useful in early data exploration to inform feature selection for machine learning models.\n",
    "\n",
    "In summary, the pair plot was chosen for its ability to reveal multi-variable interactions in a single visual, making it a powerful tool for uncovering patterns that drive deeper insights or predictive modeling."
   ]
  },
  {
   "cell_type": "markdown",
   "metadata": {
    "id": "22aHeOlLveiV"
   },
   "source": [
    "##### 2. What is/are the insight(s) found from the chart?"
   ]
  },
  {
   "cell_type": "code",
   "execution_count": null,
   "metadata": {
    "id": "uPQ8RGwHveiV"
   },
   "outputs": [],
   "source": [
    "The pair plot reveals a few key relationships between release_year, runtime, and imdb_score:\n",
    "\n",
    "Runtime vs IMDb Score:\n",
    "\n",
    "There is a slight positive correlation between runtime and imdb_score, suggesting that longer titles may be rated slightly higher on average.\n",
    "\n",
    "However, the relationship is not strong or consistent, indicating other factors also play major roles in audience ratings.\n",
    "\n",
    "Release Year vs IMDb Score:\n",
    "\n",
    "IMDb scores are relatively evenly distributed across years, meaning that newer content doesn't necessarily perform better than older titles in terms of ratings.\n",
    "\n",
    "This could imply that Amazon’s recent increase in content does not always equate to higher viewer satisfaction.\n",
    "\n",
    "Distributions:\n",
    "\n",
    "Runtime is heavily right-skewed, with most content under 120 minutes.\n",
    "\n",
    "IMDb scores tend to cluster between 5 and 7, indicating moderate viewer satisfaction overall.\n",
    "\n",
    "Release years show a sharp increase in recent years, confirming Amazon’s growing content library."
   ]
  },
  {
   "cell_type": "markdown",
   "metadata": {
    "id": "JcMwzZxoAimU"
   },
   "source": [
    "## **5. Solution to Business Objective**"
   ]
  },
  {
   "cell_type": "markdown",
   "metadata": {
    "id": "8G2x9gOozGDZ"
   },
   "source": [
    "#### What do you suggest the client to achieve Business Objective ?\n",
    "Explain Briefly."
   ]
  },
  {
   "cell_type": "code",
   "execution_count": null,
   "metadata": {
    "id": "pASKb0qOza21"
   },
   "outputs": [],
   "source": [
    "1. Balance Content Volume with Quality\n",
    "Although the platform boasts a high number of movies, TV series have better IMDb ratings.\n",
    "\n",
    "Recommendation: Spend more on high-quality TV series, particularly those that fall under high-rated genres (e.g., Crime, Thriller, Documentary), to raise user engagement and retention.\n",
    "\n",
    "✅ 2. Diversify Genre Strategy\n",
    "Drama and Comedy are overrepresented in the catalog, yet genres such as Documentary and History always get higher scores.\n",
    "\n",
    "Recommendation: Showcase and offer high-performance underrepresented genres to maximize viewer satisfaction and differentiate from rivals.\n",
    "\n",
    "✅ 3. Increase Family and Kids Content\n",
    "Age certification data indicates a high emphasis on mature content with few titles for families and children.\n",
    "\n",
    "Recommendation: Produce or license additional family content (PG, G, TV-G) to target household viewing and challenge Disney+ and other competitors.\n",
    "\n",
    "✅ 4. Enhance Metadata Completeness\n",
    "Several titles have missing or \"Unknown\" values for critical fields such as age certification and genre.\n",
    "\n",
    "Recommendation: Implement strict metadata standards to enhance user filtering, parental controls, and recommendation correctness.\n",
    "\n",
    "✅ 5. Utilize Viewer Ratings for Curation\n",
    "Utilize IMDb ratings to highlight the best-rated content per category or genre.\n",
    "\n"
   ]
  },
  {
   "cell_type": "markdown",
   "metadata": {
    "id": "gCX9965dhzqZ"
   },
   "source": [
    "# **Conclusion**"
   ]
  },
  {
   "cell_type": "code",
   "execution_count": null,
   "metadata": {
    "id": "Fjb1IsQkh3yE"
   },
   "outputs": [],
   "source": [
    "This project offered a thorough exploratory breakdown of Amazon Prime TV shows and movies dataset. Through visualization, statistical summary, and trend analysis, some of the major patterns and opportunities uncovered were:\n",
    "\n",
    "Most content is movies, yet TV shows have more robust average IMDb scores, which suggests greater audience engagement with series.\n",
    "\n",
    "Most popular genres are Drama, Comedy, and Action, but Documentaries, Crime, and Thriller genres have better ratings, which indicates an imbalance in the volume of content versus audience demand.\n",
    "\n",
    "There is a strong emphasis on mature audiences content (TV-MA, R) with very few child- and family-friendly offerings, offering a clear potential for expansion.\n",
    "\n",
    "A sharp growth in content production between 2015 and 2020 was noted, mirroring Amazon strategic drive into original and exclusive programming.\n",
    "\n",
    "The report also pointed to a couple of risks that could impact user satisfaction and reduce audience reach if not addressed, including genre saturation, lack of metadata, and underrepresentation of family-friendly content.\n",
    "\n",
    "Overall, Amazon Prime can shore up its competitive advantage by:\n",
    "\n",
    "Elevating high-quality TV series and highest-rated genres,\n",
    "\n",
    "Exploring family and youth content,\n",
    "\n",
    "Enhancing metadata completeness, and\n",
    "\n",
    "Applying audience rating trends to curation and content planning.\n",
    "\n",
    "These insights based on data have the potential to inform wiser content investment, improved user targeting, and ultimately, more robust business performance in the extremely competitive streaming landscape."
   ]
  },
  {
   "cell_type": "markdown",
   "metadata": {
    "id": "gIfDvo9L0UH2"
   },
   "source": [
    "### ***Hurrah! You have successfully completed your EDA Capstone Project !!!***"
   ]
  },
  {
   "cell_type": "code",
   "execution_count": null,
   "metadata": {
    "id": "dYX880etpL0x"
   },
   "outputs": [],
   "source": []
  },
  {
   "cell_type": "code",
   "execution_count": null,
   "metadata": {
    "id": "-6Vl263upPVI"
   },
   "outputs": [],
   "source": []
  }
 ],
 "metadata": {
  "colab": {
   "collapsed_sections": [
    "vncDsAP0Gaoa",
    "FJNUwmbgGyua",
    "w6K7xa23Elo4",
    "yQaldy8SH6Dl",
    "PH-0ReGfmX4f",
    "mDgbUHAGgjLW",
    "O_i_v8NEhb9l",
    "HhfV-JJviCcP",
    "Y3lxredqlCYt",
    "3RnN4peoiCZX",
    "x71ZqKXriCWQ",
    "7hBIi_osiCS2",
    "JlHwYmJAmNHm",
    "35m5QtbWiB9F",
    "PoPl-ycgm1ru",
    "H0kj-8xxnORC",
    "nA9Y7ga8ng1Z",
    "PBTbrJXOngz2",
    "u3PMJOP6ngxN",
    "dauF4eBmngu3",
    "bKJF3rekwFvQ",
    "MSa1f5Uengrz",
    "GF8Ens_Soomf",
    "0wOQAZs5pc--",
    "K5QZ13OEpz2H",
    "lQ7QKXXCp7Bj",
    "448CDAPjqfQr",
    "KSlN3yHqYklG",
    "t6dVpIINYklI",
    "ijmpgYnKYklI",
    "-JiQyfWJYklI",
    "EM7whBJCYoAo",
    "fge-S5ZAYoAp",
    "85gYPyotYoAp",
    "RoGjAbkUYoAp",
    "4Of9eVA-YrdM",
    "iky9q4vBYrdO",
    "F6T5p64dYrdO",
    "y-Ehk30pYrdP",
    "bamQiAODYuh1",
    "QHF8YVU7Yuh3",
    "GwzvFGzlYuh3",
    "qYpmQ266Yuh3",
    "OH-pJp9IphqM",
    "bbFf2-_FphqN",
    "_ouA3fa0phqN",
    "Seke61FWphqN",
    "PIIx-8_IphqN",
    "t27r6nlMphqO",
    "r2jJGEOYphqO",
    "b0JNsNcRphqO",
    "BZR9WyysphqO",
    "jj7wYXLtphqO",
    "eZrbJ2SmphqO",
    "rFu4xreNphqO",
    "YJ55k-q6phqO",
    "gCFgpxoyphqP",
    "OVtJsKN_phqQ",
    "lssrdh5qphqQ",
    "U2RJ9gkRphqQ",
    "1M8mcRywphqQ",
    "tgIPom80phqQ",
    "JMzcOPDDphqR",
    "x-EpHcCOp1ci",
    "X_VqEhTip1ck",
    "8zGJKyg5p1ck",
    "PVzmfK_Ep1ck",
    "n3dbpmDWp1ck",
    "ylSl6qgtp1ck",
    "ZWILFDl5p1ck",
    "M7G43BXep1ck",
    "Ag9LCva-p1cl",
    "E6MkPsBcp1cl",
    "2cELzS2fp1cl",
    "3MPXvC8up1cl",
    "NC_X3p0fY2L0",
    "UV0SzAkaZNRQ",
    "YPEH6qLeZNRQ",
    "q29F0dvdveiT",
    "EXh0U9oCveiU",
    "22aHeOlLveiV",
    "JcMwzZxoAimU",
    "8G2x9gOozGDZ",
    "gCX9965dhzqZ",
    "gIfDvo9L0UH2"
   ],
   "private_outputs": true,
   "provenance": []
  },
  "kernelspec": {
   "display_name": "Python 3 (ipykernel)",
   "language": "python",
   "name": "python3"
  },
  "language_info": {
   "codemirror_mode": {
    "name": "ipython",
    "version": 3
   },
   "file_extension": ".py",
   "mimetype": "text/x-python",
   "name": "python",
   "nbconvert_exporter": "python",
   "pygments_lexer": "ipython3",
   "version": "3.12.7"
  }
 },
 "nbformat": 4,
 "nbformat_minor": 4
}
